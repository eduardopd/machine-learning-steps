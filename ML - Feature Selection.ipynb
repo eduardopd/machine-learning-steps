{
 "cells": [
  {
   "cell_type": "markdown",
   "metadata": {},
   "source": [
    "# ML - Feature Selection \n",
    "\n",
    "This notebook is the practical part of Feature Selection for Machine Learning. It contains methods of filtering and wrapping features and, it uses a FIFA 20 Ultimate Team Dataset. The theoretical part can be found in the following article in Medium (Portuguese). \n",
    "\n",
    "https://medium.com/@eduardo.p.domingues/ml-feature-selection-35cdf68f5d8c\n",
    "\n",
    "\n"
   ]
  },
  {
   "cell_type": "markdown",
   "metadata": {},
   "source": [
    "### Data Gathering and, Wrangling \n",
    "\n",
    "#### Define\n",
    "\n",
    "    - Remove columns.\n",
    "    - Drop N/A."
   ]
  },
  {
   "cell_type": "code",
   "execution_count": 2,
   "metadata": {},
   "outputs": [],
   "source": [
    "import zipfile\n",
    "import pandas as pd\n",
    "import numpy as np\n",
    "import random\n",
    "import matplotlib.pyplot as plt\n",
    "import seaborn as sb\n",
    "%matplotlib inline"
   ]
  },
  {
   "cell_type": "code",
   "execution_count": 41,
   "metadata": {},
   "outputs": [
    {
     "name": "stderr",
     "output_type": "stream",
     "text": [
      "/Users/Eduardo/opt/anaconda3/lib/python3.7/site-packages/IPython/core/interactiveshell.py:3063: DtypeWarning: Columns (5) have mixed types.Specify dtype option on import or set low_memory=False.\n",
      "  interactivity=interactivity, compiler=compiler, result=result)\n"
     ]
    }
   ],
   "source": [
    "# Read Players CSV\n",
    "\n",
    "df = pd.read_csv('fut_bin20_players.csv')"
   ]
  },
  {
   "cell_type": "code",
   "execution_count": 42,
   "metadata": {},
   "outputs": [],
   "source": [
    "# Dataframe selection \n",
    "\n",
    "df_clean = df.copy()\n",
    "\n",
    "df_clean.drop(['origin', \n",
    "               'revision',\n",
    "               'ps4_last',\n",
    "               'ps4_min',\n",
    "               'ps4_max',\n",
    "               'ps4_prp',\n",
    "               'xbox_last',\n",
    "               'xbox_min',\n",
    "               'xbox_max',\n",
    "               'xbox_prp',\n",
    "               'pc_last',\n",
    "               'pc_min',\n",
    "               'pc_max',\n",
    "               'pc_prp',\n",
    "               'specialities',\n",
    "               'gk_diving',\n",
    "               'gk_reflexes',\n",
    "               'gk_handling',\n",
    "               'gk_speed',\n",
    "               'gk_kicking',\n",
    "               'gk_positoning',\n",
    "               'traits', \n",
    "               'intl_rep',\n",
    "               'player_name',\n",
    "               'player_extended_name',\n",
    "               'club',\n",
    "               'league',\n",
    "               'nationality',\n",
    "               'date_of_birth',\n",
    "               'quality',\n",
    "               'added_date',\n",
    "               'base_id',\n",
    "               'resource_id',\n",
    "               'futbin_id',\n",
    "               'pref_foot', \n",
    "               'att_workrate',\n",
    "               'def_workrate'], axis=1, inplace=True)\n",
    "\n",
    "\n",
    "df_clean.dropna(subset=['shooting',\n",
    "                        'passing',\n",
    "                        'defending',\n",
    "                        'physicality',\n",
    "                        'dribbling',\n",
    "                        'pace'], how='all', inplace=True)\n"
   ]
  },
  {
   "cell_type": "markdown",
   "metadata": {},
   "source": [
    "# Machine Learning\n",
    "\n",
    "### Feature Selection\n",
    "\n",
    "Feature selection is an important step when trying to predict a player's position. We selected the main features presented in the dataset and, now we need to verify which ones are the better when predicting the player's position. The method chosen was Sklearn Feature Selection using the function Select K Best. K is the number of features to select and, we need to compare the number of features to the mean absolute error. The mean absolute error is a risk metric corresponding to the expected value of the absolute error loss. By comparing these two variables, we get the best K variables, the ones with the lowest mean absolute error, when predicting the player's position.\n",
    "\n",
    "Another step is encoding the categorical variables. Since we are trying to predict a categorical variable, and machine learning models only accept numbers as inputs and outputs, we need to encode the categorical variable."
   ]
  },
  {
   "cell_type": "code",
   "execution_count": 43,
   "metadata": {},
   "outputs": [],
   "source": [
    "sample = df_clean.copy()"
   ]
  },
  {
   "cell_type": "markdown",
   "metadata": {},
   "source": [
    "### Preprocessing \n",
    "Split the dataset into two datasets, train and, test."
   ]
  },
  {
   "cell_type": "code",
   "execution_count": 44,
   "metadata": {},
   "outputs": [],
   "source": [
    "X = sample.drop(['position'], axis=1)\n",
    "y = sample['position']\n",
    "\n",
    "from sklearn.model_selection import train_test_split\n",
    "\n",
    "X_train, X_test, y_train, y_test = train_test_split(X, y, test_size = 0.2, random_state = 42)"
   ]
  },
  {
   "cell_type": "markdown",
   "metadata": {},
   "source": [
    "### Encode - Functions\n",
    "\n",
    "Encode Categorical Variables"
   ]
  },
  {
   "cell_type": "code",
   "execution_count": 9,
   "metadata": {},
   "outputs": [],
   "source": [
    "from sklearn.preprocessing import OrdinalEncoder, LabelEncoder\n",
    "\n",
    "def prepare_inputs(X_train, X_test):\n",
    "    oe = OrdinalEncoder()\n",
    "    oe.fit(X_train)\n",
    "    X_train_enc = oe.transform(X_train)\n",
    "    X_test_enc = oe.transform(X_test)\n",
    "        \n",
    "    return X_train_enc, X_test_enc\n",
    "    \n",
    "    \n",
    "# Prepare the out    \n",
    "def prepare_targets(y_train, y_test):\n",
    "    le = LabelEncoder()\n",
    "    le.fit(y_train)\n",
    "    y_train_enc = le.transform(y_train)\n",
    "    y_test_enc = le.transform(y_test)\n",
    "    \n",
    "    return y_train_enc, y_test_enc"
   ]
  },
  {
   "cell_type": "markdown",
   "metadata": {},
   "source": [
    "### Filter - Functions\n",
    "\n",
    "Functions for Chi Squared and, Classification"
   ]
  },
  {
   "cell_type": "code",
   "execution_count": 11,
   "metadata": {},
   "outputs": [],
   "source": [
    "from sklearn.feature_selection import SelectKBest, chi2, f_classif, SelectFromModel\n",
    "from sklearn.metrics import cohen_kappa_score\n",
    "\n",
    "\n",
    "# Features selection by Filtering\n",
    "def select_features_chi2(X_train, y_train, X_test):\n",
    "    selector = SelectKBest(score_func=chi2, k='all')\n",
    "    \n",
    "    selector.fit(X_train, y_train)\n",
    "    \n",
    "    # Reduce X to the selected variables\n",
    "    X_train2 = selector.transform(X_train)\n",
    "    X_test2 = selector.transform(X_test)\n",
    "    \n",
    "    return X_train2, X_test2, selector\n",
    "\n",
    "def select_features_classif(X_train, y_train, X_test):\n",
    "    selector = SelectKBest(score_func=f_classif, k='all')\n",
    "    \n",
    "    selector.fit(X_train, y_train)\n",
    "    \n",
    "    # Reduce X to the selected variables\n",
    "    X_train2 = selector.transform(X_train)\n",
    "    X_test2 = selector.transform(X_test)\n",
    "    \n",
    "    return X_train2, X_test2, selector\n"
   ]
  },
  {
   "cell_type": "markdown",
   "metadata": {},
   "source": [
    "### Wrapper - Functions\n",
    "\n",
    "Functions for Linear Regression, Random Forest and, Ridge."
   ]
  },
  {
   "cell_type": "code",
   "execution_count": 12,
   "metadata": {},
   "outputs": [],
   "source": [
    "from sklearn.ensemble import RandomForestClassifier\n",
    "from sklearn.linear_model import LinearRegression, Ridge\n",
    "\n",
    "def select_features_lr(X_train, y_train, X_test, k):\n",
    "    \n",
    "    selector_model = LinearRegression(normalize=True)\n",
    "    \n",
    "    selector = SelectFromModel(selector_model, max_features = k, threshold=-np.inf)\n",
    "\n",
    "    selector.fit(X_train, y_train)\n",
    "    \n",
    "    # Reduce X to the selected variables\n",
    "    X_train2 = selector.transform(X_train)\n",
    "    X_test2 = selector.transform(X_test)\n",
    "    \n",
    "    return X_train2, X_test2, selector\n",
    "\n",
    "\n",
    "\n",
    "def select_features_rf(X_train, y_train, X_test, k):\n",
    "    \n",
    "    selector_model = RandomForestClassifier(n_estimators=100)\n",
    "    \n",
    "    selector = SelectFromModel(selector_model, max_features = k, threshold=-np.inf)\n",
    "\n",
    "    selector.fit(X_train, y_train)\n",
    "    \n",
    "    # Reduce X to the selected variables\n",
    "    X_train2 = selector.transform(X_train)\n",
    "    X_test2 = selector.transform(X_test)\n",
    "    \n",
    "    return X_train2, X_test2, selector\n",
    "\n",
    "\n",
    "\n",
    "def select_features_ridge(X_train, y_train, X_test, k):\n",
    "    \n",
    "    selector_model = Ridge(alpha=0.1, normalize=True)\n",
    "    \n",
    "    selector = SelectFromModel(selector_model, max_features = k, threshold=-np.inf)\n",
    "\n",
    "    selector.fit(X_train, y_train)\n",
    "    \n",
    "    # Reduce X to the selected variables\n",
    "    X_train2 = selector.transform(X_train)\n",
    "    X_test2 = selector.transform(X_test)\n",
    "    \n",
    "    return X_train2, X_test2, selector"
   ]
  },
  {
   "cell_type": "markdown",
   "metadata": {},
   "source": [
    "### Filtering"
   ]
  },
  {
   "cell_type": "code",
   "execution_count": 34,
   "metadata": {},
   "outputs": [],
   "source": [
    "# Encode \n",
    "y_train_enc, y_test_enc = prepare_targets(y_train, y_test)"
   ]
  },
  {
   "cell_type": "markdown",
   "metadata": {},
   "source": [
    "#### Feature selection with KBest method using Pearson's Chi-Squared Test\n",
    "\n",
    "Test each feature separately using Pearson's chi-squared test. The higher the result of the test, the most relevant the feature is. "
   ]
  },
  {
   "cell_type": "code",
   "execution_count": 35,
   "metadata": {},
   "outputs": [
    {
     "data": {
      "image/png": "[encoded data removed]",
      "text/plain": [
       "<Figure size 432x288 with 1 Axes>"
      ]
     },
     "metadata": {
      "needs_background": "light"
     },
     "output_type": "display_data"
    }
   ],
   "source": [
    "#X_train_enc, X_test_enc = prepare_inputs(X_train, X_test)\n",
    "y_train_enc, y_test_enc = prepare_targets(y_train, y_test)\n",
    "\n",
    "X_train2, X_test2, selector = select_features_chi2(X_train, y_train_enc, X_test)\n",
    "\n",
    "plt.bar([i for i in range(len(selector.scores_))], selector.scores_);"
   ]
  },
  {
   "cell_type": "markdown",
   "metadata": {},
   "source": [
    "From the graph above we can verify that features 14, 15, 16, 28, 29, 31, 32 and, 33 are the most relevant ones. "
   ]
  },
  {
   "cell_type": "markdown",
   "metadata": {},
   "source": [
    "#### Feature selection with KBest method using Mutual Information \n",
    "\n",
    "Mutual information evaluates the gain of each variable in the context of the target variable. Information gain measures the reduction of \"surprises\" by splitting a dataset according to a given value of a random variable. To sum up, larger the information gain means less surprise.\n",
    "\n",
    "https://machinelearningmastery.com/information-gain-and-mutual-information/"
   ]
  },
  {
   "cell_type": "code",
   "execution_count": 15,
   "metadata": {},
   "outputs": [
    {
     "data": {
      "image/png": "[encoded data removed]",
      "text/plain": [
       "<Figure size 432x288 with 1 Axes>"
      ]
     },
     "metadata": {
      "needs_background": "light"
     },
     "output_type": "display_data"
    }
   ],
   "source": [
    "X_train2, X_test2, selector = select_features_classif(X_train, y_train_enc, X_test)\n",
    "\n",
    "plt.bar([i for i in range(len(selector.scores_))], selector.scores_);"
   ]
  },
  {
   "cell_type": "markdown",
   "metadata": {},
   "source": [
    "The result is similar to the one we found using Chi-Squared. Features 14, 15, 16, 28, 29, 31, 32, 33 and, 41 are the most relevant ones. "
   ]
  },
  {
   "cell_type": "markdown",
   "metadata": {},
   "source": [
    "### Wrapping"
   ]
  },
  {
   "cell_type": "code",
   "execution_count": 28,
   "metadata": {},
   "outputs": [
    {
     "data": {
      "text/plain": [
       "Index(['overall', 'pass_vision', 'pass_short', 'pass_long', 'physicality',\n",
       "       'weak_foot', 'skill_moves', 'lb', 'cam', 'st'],\n",
       "      dtype='object')"
      ]
     },
     "execution_count": 28,
     "metadata": {},
     "output_type": "execute_result"
    }
   ],
   "source": [
    "X_train2, X_test2, selector = select_features_lr(X_train, y_train_enc, X_test, 10)\n",
    "\n",
    "X_train.columns[selector.get_support()]"
   ]
  },
  {
   "cell_type": "markdown",
   "metadata": {},
   "source": [
    "### KBest Functions\n",
    "Functions using kBest to test the best feature combinations. "
   ]
  },
  {
   "cell_type": "code",
   "execution_count": 48,
   "metadata": {},
   "outputs": [],
   "source": [
    "from sklearn.metrics import mean_absolute_error\n",
    "\n",
    "\n",
    "def select_k_best(method, X_train, y_train, X_test, y_test, k):\n",
    "    scores = []\n",
    "    \n",
    "    for k in range(2, X_train.shape[1], 2):\n",
    "        X_train2, X_test2, selector = method(X_train, y_train, X_test, k)\n",
    "\n",
    "        model = RandomForestClassifier(n_estimators = 1000, random_state=0, n_jobs= -1)\n",
    "        model.fit(X_train2, y_train)\n",
    "\n",
    "        p = model.predict(X_test2)\n",
    "\n",
    "        score = mean_absolute_error(y_test, p)\n",
    "\n",
    "        #print(k, '___', score)\n",
    "\n",
    "        scores.append(score)\n",
    "\n",
    "    return scores, selector\n",
    "\n",
    "def find_best_features(method, X_train, y_train, X_test, y_test, r):\n",
    "    \n",
    "    X_train2, X_test2, selector = method(X_train, y_train, X_test, r)\n",
    "    \n",
    "    model = RandomForestClassifier(n_estimators = 1000, random_state=0, n_jobs= -1)\n",
    "    model.fit(X_train2, y_train)\n",
    "    \n",
    "    p = model.predict(X_test2)\n",
    "    \n",
    "    score = mean_absolute_error(y_test, p)\n",
    "    \n",
    "    print(r, '___', score)\n",
    "    print(X_train.columns[selector.get_support()])\n",
    "    \n",
    "    return selector"
   ]
  },
  {
   "cell_type": "markdown",
   "metadata": {},
   "source": [
    "##### Select Best Features with Ridge"
   ]
  },
  {
   "cell_type": "code",
   "execution_count": 49,
   "metadata": {},
   "outputs": [],
   "source": [
    "ridge_scores, ridge_selector = select_k_best(select_features_ridge, X_train, y_train_enc, X_test, y_test_enc, 10)\n",
    "\n"
   ]
  },
  {
   "cell_type": "code",
   "execution_count": 50,
   "metadata": {},
   "outputs": [
    {
     "data": {
      "image/png": "[encoded data removed]",
      "text/plain": [
       "<Figure size 720x504 with 1 Axes>"
      ]
     },
     "metadata": {
      "needs_background": "light"
     },
     "output_type": "display_data"
    }
   ],
   "source": [
    "pd.Series(ridge_scores, index=range(1, X.shape[1], 2)).plot(figsize=(10,7));"
   ]
  },
  {
   "cell_type": "markdown",
   "metadata": {},
   "source": [
    "Identify the best features."
   ]
  },
  {
   "cell_type": "code",
   "execution_count": 51,
   "metadata": {},
   "outputs": [
    {
     "name": "stdout",
     "output_type": "stream",
     "text": [
      "15 ___ 1.628460851443882\n",
      "Index(['overall', 'height', 'shoot_positioning', 'passing', 'pass_vision',\n",
      "       'pass_crossing', 'pass_free_kick', 'pass_short', 'pass_long',\n",
      "       'def_heading', 'weak_foot', 'skill_moves', 'cdm', 'cm', 'st'],\n",
      "      dtype='object')\n"
     ]
    }
   ],
   "source": [
    "n_features = 15\n",
    "\n",
    "find_best_features(select_features_ridge, X_train, y_train_enc, X_test, y_test_enc, n_features);"
   ]
  },
  {
   "cell_type": "markdown",
   "metadata": {},
   "source": [
    "##### Select Best Features with Random Forest"
   ]
  },
  {
   "cell_type": "code",
   "execution_count": 59,
   "metadata": {},
   "outputs": [],
   "source": [
    "rf_scores, rf_selector = select_k_best(select_features_rf, X_train, y_train_enc, X_test, y_test_enc, 10)\n"
   ]
  },
  {
   "cell_type": "code",
   "execution_count": 60,
   "metadata": {},
   "outputs": [
    {
     "data": {
      "text/plain": [
       "<matplotlib.axes._subplots.AxesSubplot at 0x106485b90>"
      ]
     },
     "execution_count": 60,
     "metadata": {},
     "output_type": "execute_result"
    },
    {
     "data": {
      "image/png": "[encoded data removed]",
      "text/plain": [
       "<Figure size 720x504 with 1 Axes>"
      ]
     },
     "metadata": {
      "needs_background": "light"
     },
     "output_type": "display_data"
    }
   ],
   "source": [
    "pd.Series(rf_scores, index=range(1, X.shape[1], 2)).plot(figsize=(10,7))"
   ]
  },
  {
   "cell_type": "code",
   "execution_count": 61,
   "metadata": {},
   "outputs": [
    {
     "name": "stdout",
     "output_type": "stream",
     "text": [
      "15 ___ 1.6725215838047038\n",
      "Index(['shooting', 'shoot_positioning', 'shoot_finishing', 'pass_vision',\n",
      "       'pass_crossing', 'pass_long', 'defending', 'def_interceptions',\n",
      "       'def_heading', 'def_marking', 'def_stand_tackle', 'def_slid_tackle',\n",
      "       'phys_strength', 'cb', 'rw'],\n",
      "      dtype='object')\n"
     ]
    }
   ],
   "source": [
    "n_features = 15\n",
    "\n",
    "find_best_features(select_features_rf, X_train, y_train_enc, X_test, y_test_enc, n_features);"
   ]
  },
  {
   "cell_type": "markdown",
   "metadata": {},
   "source": [
    "##### Select Best Features with Linear Regression"
   ]
  },
  {
   "cell_type": "code",
   "execution_count": 56,
   "metadata": {},
   "outputs": [],
   "source": [
    "lr_scores, lr_selector = select_k_best(select_features_lr, X_train, y_train_enc, X_test, y_test_enc, 10)"
   ]
  },
  {
   "cell_type": "code",
   "execution_count": 57,
   "metadata": {},
   "outputs": [
    {
     "data": {
      "text/plain": [
       "<matplotlib.axes._subplots.AxesSubplot at 0x107306910>"
      ]
     },
     "execution_count": 57,
     "metadata": {},
     "output_type": "execute_result"
    },
    {
     "data": {
      "image/png": "[encoded data removed]",
      "text/plain": [
       "<Figure size 720x504 with 1 Axes>"
      ]
     },
     "metadata": {
      "needs_background": "light"
     },
     "output_type": "display_data"
    }
   ],
   "source": [
    "pd.Series(lr_scores, index=range(1, X.shape[1], 2)).plot(figsize=(10,7))"
   ]
  },
  {
   "cell_type": "code",
   "execution_count": 58,
   "metadata": {},
   "outputs": [
    {
     "name": "stdout",
     "output_type": "stream",
     "text": [
      "20 ___ 1.7532003572491812\n",
      "Index(['overall', 'shooting', 'passing', 'pass_vision', 'pass_short',\n",
      "       'pass_long', 'defending', 'physicality', 'phys_strength', 'weak_foot',\n",
      "       'skill_moves', 'cb', 'rb', 'lb', 'rm', 'lm', 'cam', 'rw', 'lw', 'st'],\n",
      "      dtype='object')\n"
     ]
    }
   ],
   "source": [
    "n_features = 20\n",
    "\n",
    "find_best_features(select_features_lr, X_train, y_train_enc, X_test, y_test_enc, n_features);"
   ]
  },
  {
   "cell_type": "markdown",
   "metadata": {},
   "source": [
    "#### Add new variables to the best score:\n",
    "\n",
    "We got the best score (smaller mean absolute error) using fewer features with the Ridge method. There are many ways to tune the feature selection process after this point. We can manually add columns selected by other methods to the Ridge method and verify if there is a decrease in the error. Let's try adding physicality to the columns selected by the Ridge method."
   ]
  },
  {
   "cell_type": "code",
   "execution_count": 67,
   "metadata": {},
   "outputs": [],
   "source": [
    "new_columns = ['overall', 'height', 'shoot_positioning', 'passing', 'pass_vision',\n",
    "       'pass_crossing', 'pass_free_kick', 'pass_short', 'pass_long',\n",
    "       'def_heading', 'weak_foot', 'skill_moves', 'cdm', 'cm', 'st', 'physicality']\n",
    "\n"
   ]
  },
  {
   "cell_type": "code",
   "execution_count": 80,
   "metadata": {},
   "outputs": [],
   "source": [
    "X_train3 = X_train[X_train.columns & new_columns]\n",
    "X_test3 = X_test[X_test.columns & new_columns]"
   ]
  },
  {
   "cell_type": "code",
   "execution_count": 82,
   "metadata": {},
   "outputs": [
    {
     "name": "stdout",
     "output_type": "stream",
     "text": [
      "16 ___ 1.6332241738612683\n",
      "Index(['overall', 'height', 'shoot_positioning', 'passing', 'pass_vision',\n",
      "       'pass_crossing', 'pass_free_kick', 'pass_short', 'pass_long',\n",
      "       'def_heading', 'physicality', 'weak_foot', 'skill_moves', 'cdm', 'cm',\n",
      "       'st'],\n",
      "      dtype='object')\n"
     ]
    }
   ],
   "source": [
    "n_features = 16\n",
    "\n",
    "find_best_features(select_features_ridge, X_train3, y_train_enc, X_test3, y_test_enc, n_features);\n"
   ]
  },
  {
   "cell_type": "markdown",
   "metadata": {},
   "source": [
    "By adding the column \"physicality\" we didn't get a smaller mean absolute error. You can try doing this to other variables selected by other methods. Feature selection is also manually adding and removing variables, checking if there is an improvement. "
   ]
  }
 ],
 "metadata": {
  "kernelspec": {
   "display_name": "Python 3",
   "language": "python",
   "name": "python3"
  },
  "language_info": {
   "codemirror_mode": {
    "name": "ipython",
    "version": 3
   },
   "file_extension": ".py",
   "mimetype": "text/x-python",
   "name": "python",
   "nbconvert_exporter": "python",
   "pygments_lexer": "ipython3",
   "version": "3.7.6"
  }
 },
 "nbformat": 4,
 "nbformat_minor": 4
}
